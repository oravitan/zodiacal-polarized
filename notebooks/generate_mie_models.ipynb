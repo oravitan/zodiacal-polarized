{
 "cells": [
  {
   "cell_type": "code",
   "execution_count": 1,
   "outputs": [],
   "source": [
    "import numpy as np\n",
    "import pandas as pd\n",
    "import matplotlib.pyplot as plt\n",
    "import os\n",
    "from tqdm import  tqdm\n",
    "\n",
    "from zodipol.mie_scattering.particle_size_model import ParticleSizeModel\n",
    "from zodipol.mie_scattering.mie_scattering_model import MieScatteringModel\n",
    "from zodipol.visualization.mie_plotting import plot_mueller_matrix_elems"
   ],
   "metadata": {
    "collapsed": false
   }
  },
  {
   "cell_type": "code",
   "execution_count": 2,
   "outputs": [],
   "source": [
    "# Kelsall's Model for comparision\n",
    "from zodipy._source_funcs import get_phase_function\n",
    "\n",
    "wavelength = 1250  # in nm\n",
    "C1 = (-0.942, 0.121, -0.165)"
   ],
   "metadata": {
    "collapsed": false
   }
  },
  {
   "cell_type": "code",
   "execution_count": 3,
   "outputs": [],
   "source": [
    "def distance_from_kelsall(theta, func):\n",
    "    kelsall_125um = get_phase_function(theta, C1)\n",
    "    bhat = bhat_distance(theta, func, kelsall_125um)\n",
    "    return bhat\n",
    "\n",
    "def bhat_distance(theta, func1, func2):\n",
    "    bhat_distance = -np.log(2*np.pi*np.trapz(np.sqrt(func1 * func2) * np.sin(theta), theta))\n",
    "    return bhat_distance"
   ],
   "metadata": {
    "collapsed": false
   }
  },
  {
   "cell_type": "code",
   "execution_count": 4,
   "outputs": [],
   "source": [
    "spectrum = np.logspace(np.log10(300), np.log10(3500), 10)  # white light wavelength in nm\n",
    "theta = np.linspace(0, np.pi, 100)  # angle in radians\n",
    "\n",
    "# create a parameter mapping\n",
    "s_min = np.logspace(np.log10(0.001), np.log10(1), 5)  # in um\n",
    "s_max = np.logspace(np.log10(20), np.log10(100), 5)  # in um\n",
    "big_gamma = np.arange(5.2, 5.6, 0.2)\n",
    "small_gamma = np.arange(3.5, 4.5, 0.5)\n",
    "BG, SG, SN, SX = np.meshgrid(big_gamma, small_gamma, s_min, s_max)  # create a grid of parameters\n",
    "SN, SX, BG, SG = SN.flatten(), SX.flatten(), BG.flatten(), SG.flatten()  # flatten the grid"
   ],
   "metadata": {
    "collapsed": false
   }
  },
  {
   "cell_type": "code",
   "execution_count": 6,
   "outputs": [
    {
     "name": "stdout",
     "output_type": "stream",
     "text": [
      "Number of models to train: 100\n"
     ]
    },
    {
     "data": {
      "text/plain": "    s_min       s_max  big_gamma  small_gamma\n0   0.001   20.000000        5.2          3.5\n1   0.001   29.906976        5.2          3.5\n2   0.001   44.721360        5.2          3.5\n3   0.001   66.874030        5.2          3.5\n4   0.001  100.000000        5.2          3.5\n..    ...         ...        ...          ...\n95  1.000   20.000000        5.4          4.0\n96  1.000   29.906976        5.4          4.0\n97  1.000   44.721360        5.4          4.0\n98  1.000   66.874030        5.4          4.0\n99  1.000  100.000000        5.4          4.0\n\n[100 rows x 4 columns]",
      "text/html": "<div>\n<style scoped>\n    .dataframe tbody tr th:only-of-type {\n        vertical-align: middle;\n    }\n\n    .dataframe tbody tr th {\n        vertical-align: top;\n    }\n\n    .dataframe thead th {\n        text-align: right;\n    }\n</style>\n<table border=\"1\" class=\"dataframe\">\n  <thead>\n    <tr style=\"text-align: right;\">\n      <th></th>\n      <th>s_min</th>\n      <th>s_max</th>\n      <th>big_gamma</th>\n      <th>small_gamma</th>\n    </tr>\n  </thead>\n  <tbody>\n    <tr>\n      <th>0</th>\n      <td>0.001</td>\n      <td>20.000000</td>\n      <td>5.2</td>\n      <td>3.5</td>\n    </tr>\n    <tr>\n      <th>1</th>\n      <td>0.001</td>\n      <td>29.906976</td>\n      <td>5.2</td>\n      <td>3.5</td>\n    </tr>\n    <tr>\n      <th>2</th>\n      <td>0.001</td>\n      <td>44.721360</td>\n      <td>5.2</td>\n      <td>3.5</td>\n    </tr>\n    <tr>\n      <th>3</th>\n      <td>0.001</td>\n      <td>66.874030</td>\n      <td>5.2</td>\n      <td>3.5</td>\n    </tr>\n    <tr>\n      <th>4</th>\n      <td>0.001</td>\n      <td>100.000000</td>\n      <td>5.2</td>\n      <td>3.5</td>\n    </tr>\n    <tr>\n      <th>...</th>\n      <td>...</td>\n      <td>...</td>\n      <td>...</td>\n      <td>...</td>\n    </tr>\n    <tr>\n      <th>95</th>\n      <td>1.000</td>\n      <td>20.000000</td>\n      <td>5.4</td>\n      <td>4.0</td>\n    </tr>\n    <tr>\n      <th>96</th>\n      <td>1.000</td>\n      <td>29.906976</td>\n      <td>5.4</td>\n      <td>4.0</td>\n    </tr>\n    <tr>\n      <th>97</th>\n      <td>1.000</td>\n      <td>44.721360</td>\n      <td>5.4</td>\n      <td>4.0</td>\n    </tr>\n    <tr>\n      <th>98</th>\n      <td>1.000</td>\n      <td>66.874030</td>\n      <td>5.4</td>\n      <td>4.0</td>\n    </tr>\n    <tr>\n      <th>99</th>\n      <td>1.000</td>\n      <td>100.000000</td>\n      <td>5.4</td>\n      <td>4.0</td>\n    </tr>\n  </tbody>\n</table>\n<p>100 rows × 4 columns</p>\n</div>"
     },
     "execution_count": 6,
     "metadata": {},
     "output_type": "execute_result"
    }
   ],
   "source": [
    "parameter_mapping = pd.DataFrame({'s_min': SN, 's_max': SX, 'big_gamma': BG, 'small_gamma': SG})  # create a dataframe from the grid\n",
    "print(f'Number of models to train: {len(parameter_mapping)}')\n",
    "parameter_mapping  # show the dataframe"
   ],
   "metadata": {
    "collapsed": false
   }
  },
  {
   "cell_type": "code",
   "execution_count": 69,
   "outputs": [
    {
     "name": "stderr",
     "output_type": "stream",
     "text": [
      "  1%|          | 1/100 [02:00<3:18:19, 120.20s/it]"
     ]
    },
    {
     "name": "stdout",
     "output_type": "stream",
     "text": [
      "{'s_min': 0.001, 's_max': 20.000000000000004, 'big_gamma': 5.2, 'small_gamma': 3.5, 'dist_from_kesall': 0.00630450337507518, 'dist_between_spec': 0.0014151301637161905}\n"
     ]
    },
    {
     "name": "stderr",
     "output_type": "stream",
     "text": [
      "  2%|▏         | 2/100 [04:06<3:22:33, 124.02s/it]"
     ]
    },
    {
     "name": "stdout",
     "output_type": "stream",
     "text": [
      "{'s_min': 0.001, 's_max': 29.906975624424415, 'big_gamma': 5.2, 'small_gamma': 3.5, 'dist_from_kesall': 0.00630932435067072, 'dist_between_spec': 0.0007644861797893673}\n"
     ]
    },
    {
     "name": "stderr",
     "output_type": "stream",
     "text": [
      "  3%|▎         | 3/100 [06:15<3:23:58, 126.17s/it]"
     ]
    },
    {
     "name": "stdout",
     "output_type": "stream",
     "text": [
      "{'s_min': 0.001, 's_max': 44.721359549995796, 'big_gamma': 5.2, 'small_gamma': 3.5, 'dist_from_kesall': 0.006308805749987476, 'dist_between_spec': 0.0006994714629069426}\n"
     ]
    },
    {
     "name": "stderr",
     "output_type": "stream",
     "text": [
      "  4%|▍         | 4/100 [08:27<3:25:37, 128.51s/it]"
     ]
    },
    {
     "name": "stdout",
     "output_type": "stream",
     "text": [
      "{'s_min': 0.001, 's_max': 66.87403049764221, 'big_gamma': 5.2, 'small_gamma': 3.5, 'dist_from_kesall': 0.006309849864296936, 'dist_between_spec': 0.0006669117058244948}\n"
     ]
    },
    {
     "name": "stderr",
     "output_type": "stream",
     "text": [
      "  5%|▌         | 5/100 [09:44<2:53:49, 109.78s/it]"
     ]
    },
    {
     "name": "stdout",
     "output_type": "stream",
     "text": [
      "{'s_min': 0.001, 's_max': 100.0, 'big_gamma': 5.2, 'small_gamma': 3.5, 'dist_from_kesall': 0.006309905372046482, 'dist_between_spec': 0.0006611382056909294}\n"
     ]
    },
    {
     "name": "stderr",
     "output_type": "stream",
     "text": [
      "  6%|▌         | 6/100 [10:47<2:27:26, 94.11s/it] "
     ]
    },
    {
     "name": "stdout",
     "output_type": "stream",
     "text": [
      "{'s_min': 0.005623413251903491, 's_max': 20.000000000000004, 'big_gamma': 5.2, 'small_gamma': 3.5, 'dist_from_kesall': 0.0078104305637361655, 'dist_between_spec': 0.003056566155572539}\n"
     ]
    },
    {
     "name": "stderr",
     "output_type": "stream",
     "text": [
      "  7%|▋         | 7/100 [11:52<2:10:40, 84.30s/it]"
     ]
    },
    {
     "name": "stdout",
     "output_type": "stream",
     "text": [
      "{'s_min': 0.005623413251903491, 's_max': 29.906975624424415, 'big_gamma': 5.2, 'small_gamma': 3.5, 'dist_from_kesall': 0.007816391671876982, 'dist_between_spec': 0.002006795988305127}\n"
     ]
    },
    {
     "name": "stderr",
     "output_type": "stream",
     "text": [
      "  8%|▊         | 8/100 [12:57<2:00:16, 78.44s/it]"
     ]
    },
    {
     "name": "stdout",
     "output_type": "stream",
     "text": [
      "{'s_min': 0.005623413251903491, 's_max': 44.721359549995796, 'big_gamma': 5.2, 'small_gamma': 3.5, 'dist_from_kesall': 0.007815765778878837, 'dist_between_spec': 0.0019037836870929702}\n"
     ]
    },
    {
     "name": "stderr",
     "output_type": "stream",
     "text": [
      "  9%|▉         | 9/100 [14:06<1:54:20, 75.38s/it]"
     ]
    },
    {
     "name": "stdout",
     "output_type": "stream",
     "text": [
      "{'s_min': 0.005623413251903491, 's_max': 66.87403049764221, 'big_gamma': 5.2, 'small_gamma': 3.5, 'dist_from_kesall': 0.007814308326164096, 'dist_between_spec': 0.0018514349965659718}\n"
     ]
    },
    {
     "name": "stderr",
     "output_type": "stream",
     "text": [
      " 10%|█         | 10/100 [15:17<1:50:47, 73.86s/it]"
     ]
    },
    {
     "name": "stdout",
     "output_type": "stream",
     "text": [
      "{'s_min': 0.005623413251903491, 's_max': 100.0, 'big_gamma': 5.2, 'small_gamma': 3.5, 'dist_from_kesall': 0.007813827181763619, 'dist_between_spec': 0.0018415625133250291}\n"
     ]
    },
    {
     "name": "stderr",
     "output_type": "stream",
     "text": [
      " 11%|█         | 11/100 [16:25<1:47:07, 72.22s/it]"
     ]
    },
    {
     "name": "stdout",
     "output_type": "stream",
     "text": [
      "{'s_min': 0.03162277660168379, 's_max': 20.000000000000004, 'big_gamma': 5.2, 'small_gamma': 3.5, 'dist_from_kesall': 0.01334444373762425, 'dist_between_spec': 0.016774657147465535}\n"
     ]
    },
    {
     "name": "stderr",
     "output_type": "stream",
     "text": [
      " 12%|█▏        | 12/100 [17:39<1:46:36, 72.68s/it]"
     ]
    },
    {
     "name": "stdout",
     "output_type": "stream",
     "text": [
      "{'s_min': 0.03162277660168379, 's_max': 29.906975624424415, 'big_gamma': 5.2, 'small_gamma': 3.5, 'dist_from_kesall': 0.013348028452750712, 'dist_between_spec': 0.014088720374058951}\n"
     ]
    },
    {
     "name": "stderr",
     "output_type": "stream",
     "text": [
      " 13%|█▎        | 13/100 [18:55<1:46:50, 73.68s/it]"
     ]
    },
    {
     "name": "stdout",
     "output_type": "stream",
     "text": [
      "{'s_min': 0.03162277660168379, 's_max': 44.721359549995796, 'big_gamma': 5.2, 'small_gamma': 3.5, 'dist_from_kesall': 0.013346272318609343, 'dist_between_spec': 0.01381681186805248}\n"
     ]
    },
    {
     "name": "stderr",
     "output_type": "stream",
     "text": [
      " 14%|█▍        | 14/100 [20:12<1:47:01, 74.67s/it]"
     ]
    },
    {
     "name": "stdout",
     "output_type": "stream",
     "text": [
      "{'s_min': 0.03162277660168379, 's_max': 66.87403049764221, 'big_gamma': 5.2, 'small_gamma': 3.5, 'dist_from_kesall': 0.01334238060110353, 'dist_between_spec': 0.013659658838186976}\n"
     ]
    },
    {
     "name": "stderr",
     "output_type": "stream",
     "text": [
      " 15%|█▌        | 15/100 [21:29<1:46:53, 75.45s/it]"
     ]
    },
    {
     "name": "stdout",
     "output_type": "stream",
     "text": [
      "{'s_min': 0.03162277660168379, 's_max': 100.0, 'big_gamma': 5.2, 'small_gamma': 3.5, 'dist_from_kesall': 0.013339341040566919, 'dist_between_spec': 0.013627484871169082}\n"
     ]
    },
    {
     "name": "stderr",
     "output_type": "stream",
     "text": [
      " 16%|█▌        | 16/100 [22:51<1:48:12, 77.29s/it]"
     ]
    },
    {
     "name": "stdout",
     "output_type": "stream",
     "text": [
      "{'s_min': 0.1778279410038923, 's_max': 20.000000000000004, 'big_gamma': 5.2, 'small_gamma': 3.5, 'dist_from_kesall': 0.055758600937572386, 'dist_between_spec': 0.32916908884297574}\n"
     ]
    },
    {
     "name": "stderr",
     "output_type": "stream",
     "text": [
      " 17%|█▋        | 17/100 [24:18<1:51:02, 80.28s/it]"
     ]
    },
    {
     "name": "stdout",
     "output_type": "stream",
     "text": [
      "{'s_min': 0.1778279410038923, 's_max': 29.906975624424415, 'big_gamma': 5.2, 'small_gamma': 3.5, 'dist_from_kesall': 0.05573599231632522, 'dist_between_spec': 0.3109081050141873}\n"
     ]
    },
    {
     "name": "stderr",
     "output_type": "stream",
     "text": [
      " 18%|█▊        | 18/100 [25:45<1:52:34, 82.37s/it]"
     ]
    },
    {
     "name": "stdout",
     "output_type": "stream",
     "text": [
      "{'s_min': 0.1778279410038923, 's_max': 44.721359549995796, 'big_gamma': 5.2, 'small_gamma': 3.5, 'dist_from_kesall': 0.05569473912551794, 'dist_between_spec': 0.308536559218265}\n"
     ]
    },
    {
     "name": "stderr",
     "output_type": "stream",
     "text": [
      " 19%|█▉        | 19/100 [27:11<1:52:38, 83.44s/it]"
     ]
    },
    {
     "name": "stdout",
     "output_type": "stream",
     "text": [
      "{'s_min': 0.1778279410038923, 's_max': 66.87403049764221, 'big_gamma': 5.2, 'small_gamma': 3.5, 'dist_from_kesall': 0.0556397554128727, 'dist_between_spec': 0.30721601757407896}\n"
     ]
    },
    {
     "name": "stderr",
     "output_type": "stream",
     "text": [
      " 20%|██        | 20/100 [28:37<1:52:18, 84.23s/it]"
     ]
    },
    {
     "name": "stdout",
     "output_type": "stream",
     "text": [
      "{'s_min': 0.1778279410038923, 's_max': 100.0, 'big_gamma': 5.2, 'small_gamma': 3.5, 'dist_from_kesall': 0.055592511204045715, 'dist_between_spec': 0.30672336299657105}\n"
     ]
    },
    {
     "name": "stderr",
     "output_type": "stream",
     "text": [
      " 21%|██        | 21/100 [30:11<1:54:40, 87.10s/it]"
     ]
    },
    {
     "name": "stdout",
     "output_type": "stream",
     "text": [
      "{'s_min': 1.0, 's_max': 20.000000000000004, 'big_gamma': 5.2, 'small_gamma': 3.5, 'dist_from_kesall': 0.6108047486407477, 'dist_between_spec': 1.4234838636378757}\n"
     ]
    },
    {
     "name": "stderr",
     "output_type": "stream",
     "text": [
      " 22%|██▏       | 22/100 [31:48<1:57:04, 90.06s/it]"
     ]
    },
    {
     "name": "stdout",
     "output_type": "stream",
     "text": [
      "{'s_min': 1.0, 's_max': 29.906975624424415, 'big_gamma': 5.2, 'small_gamma': 3.5, 'dist_from_kesall': 0.6112688849670713, 'dist_between_spec': 1.3779229637143746}\n"
     ]
    },
    {
     "name": "stderr",
     "output_type": "stream",
     "text": [
      " 23%|██▎       | 23/100 [33:24<1:57:53, 91.87s/it]"
     ]
    },
    {
     "name": "stdout",
     "output_type": "stream",
     "text": [
      "{'s_min': 1.0, 's_max': 44.721359549995796, 'big_gamma': 5.2, 'small_gamma': 3.5, 'dist_from_kesall': 0.6111603602123683, 'dist_between_spec': 1.368174369694268}\n"
     ]
    },
    {
     "name": "stderr",
     "output_type": "stream",
     "text": [
      " 24%|██▍       | 24/100 [35:01<1:58:09, 93.29s/it]"
     ]
    },
    {
     "name": "stdout",
     "output_type": "stream",
     "text": [
      "{'s_min': 1.0, 's_max': 66.87403049764221, 'big_gamma': 5.2, 'small_gamma': 3.5, 'dist_from_kesall': 0.6108825396163832, 'dist_between_spec': 1.3635031307321854}\n"
     ]
    },
    {
     "name": "stderr",
     "output_type": "stream",
     "text": [
      " 25%|██▌       | 25/100 [36:34<1:56:50, 93.47s/it]"
     ]
    },
    {
     "name": "stdout",
     "output_type": "stream",
     "text": [
      "{'s_min': 1.0, 's_max': 100.0, 'big_gamma': 5.2, 'small_gamma': 3.5, 'dist_from_kesall': 0.6105220127845976, 'dist_between_spec': 1.3616716493944643}\n"
     ]
    },
    {
     "name": "stderr",
     "output_type": "stream",
     "text": [
      " 26%|██▌       | 26/100 [37:34<1:42:41, 83.26s/it]"
     ]
    },
    {
     "name": "stdout",
     "output_type": "stream",
     "text": [
      "{'s_min': 0.001, 's_max': 20.000000000000004, 'big_gamma': 5.4, 'small_gamma': 3.5, 'dist_from_kesall': 0.00630450337507518, 'dist_between_spec': 0.0014151301637161905}\n"
     ]
    },
    {
     "name": "stderr",
     "output_type": "stream",
     "text": [
      " 27%|██▋       | 27/100 [38:36<1:33:44, 77.05s/it]"
     ]
    },
    {
     "name": "stdout",
     "output_type": "stream",
     "text": [
      "{'s_min': 0.001, 's_max': 29.906975624424415, 'big_gamma': 5.4, 'small_gamma': 3.5, 'dist_from_kesall': 0.006309178244420631, 'dist_between_spec': 0.0007813763267050705}\n"
     ]
    },
    {
     "name": "stderr",
     "output_type": "stream",
     "text": [
      " 28%|██▊       | 28/100 [39:43<1:28:37, 73.85s/it]"
     ]
    },
    {
     "name": "stdout",
     "output_type": "stream",
     "text": [
      "{'s_min': 0.001, 's_max': 44.721359549995796, 'big_gamma': 5.4, 'small_gamma': 3.5, 'dist_from_kesall': 0.006308528986970594, 'dist_between_spec': 0.0007232205727912986}\n"
     ]
    },
    {
     "name": "stderr",
     "output_type": "stream",
     "text": [
      " 29%|██▉       | 29/100 [40:49<1:24:47, 71.66s/it]"
     ]
    },
    {
     "name": "stdout",
     "output_type": "stream",
     "text": [
      "{'s_min': 0.001, 's_max': 66.87403049764221, 'big_gamma': 5.4, 'small_gamma': 3.5, 'dist_from_kesall': 0.00630952170473604, 'dist_between_spec': 0.0006958701020310717}\n"
     ]
    },
    {
     "name": "stderr",
     "output_type": "stream",
     "text": [
      " 30%|███       | 30/100 [41:56<1:21:48, 70.12s/it]"
     ]
    },
    {
     "name": "stdout",
     "output_type": "stream",
     "text": [
      "{'s_min': 0.001, 's_max': 100.0, 'big_gamma': 5.4, 'small_gamma': 3.5, 'dist_from_kesall': 0.00630956630557326, 'dist_between_spec': 0.0006914114861969285}\n"
     ]
    },
    {
     "name": "stderr",
     "output_type": "stream",
     "text": [
      " 31%|███       | 31/100 [42:59<1:18:08, 67.95s/it]"
     ]
    },
    {
     "name": "stdout",
     "output_type": "stream",
     "text": [
      "{'s_min': 0.005623413251903491, 's_max': 20.000000000000004, 'big_gamma': 5.4, 'small_gamma': 3.5, 'dist_from_kesall': 0.0078104305637361655, 'dist_between_spec': 0.003056566155572539}\n"
     ]
    },
    {
     "name": "stderr",
     "output_type": "stream",
     "text": [
      " 32%|███▏      | 32/100 [44:06<1:16:41, 67.67s/it]"
     ]
    },
    {
     "name": "stdout",
     "output_type": "stream",
     "text": [
      "{'s_min': 0.005623413251903491, 's_max': 29.906975624424415, 'big_gamma': 5.4, 'small_gamma': 3.5, 'dist_from_kesall': 0.007816217358746871, 'dist_between_spec': 0.0020349299200057356}\n"
     ]
    },
    {
     "name": "stderr",
     "output_type": "stream",
     "text": [
      " 33%|███▎      | 33/100 [45:14<1:15:49, 67.90s/it]"
     ]
    },
    {
     "name": "stdout",
     "output_type": "stream",
     "text": [
      "{'s_min': 0.005623413251903491, 's_max': 44.721359549995796, 'big_gamma': 5.4, 'small_gamma': 3.5, 'dist_from_kesall': 0.007815430058789355, 'dist_between_spec': 0.0019433421466488186}\n"
     ]
    },
    {
     "name": "stderr",
     "output_type": "stream",
     "text": [
      " 34%|███▍      | 34/100 [46:26<1:15:50, 68.95s/it]"
     ]
    },
    {
     "name": "stdout",
     "output_type": "stream",
     "text": [
      "{'s_min': 0.005623413251903491, 's_max': 66.87403049764221, 'big_gamma': 5.4, 'small_gamma': 3.5, 'dist_from_kesall': 0.007813915131960513, 'dist_between_spec': 0.0018999979144912612}\n"
     ]
    },
    {
     "name": "stderr",
     "output_type": "stream",
     "text": [
      " 35%|███▌      | 35/100 [47:38<1:15:47, 69.97s/it]"
     ]
    },
    {
     "name": "stdout",
     "output_type": "stream",
     "text": [
      "{'s_min': 0.005623413251903491, 's_max': 100.0, 'big_gamma': 5.4, 'small_gamma': 3.5, 'dist_from_kesall': 0.007813421353980693, 'dist_between_spec': 0.001892131127575918}\n"
     ]
    },
    {
     "name": "stderr",
     "output_type": "stream",
     "text": [
      " 36%|███▌      | 36/100 [48:49<1:15:06, 70.41s/it]"
     ]
    },
    {
     "name": "stdout",
     "output_type": "stream",
     "text": [
      "{'s_min': 0.03162277660168379, 's_max': 20.000000000000004, 'big_gamma': 5.4, 'small_gamma': 3.5, 'dist_from_kesall': 0.01334444373762425, 'dist_between_spec': 0.016774657147465535}\n"
     ]
    },
    {
     "name": "stderr",
     "output_type": "stream",
     "text": [
      " 37%|███▋      | 37/100 [50:04<1:15:08, 71.56s/it]"
     ]
    },
    {
     "name": "stdout",
     "output_type": "stream",
     "text": [
      "{'s_min': 0.03162277660168379, 's_max': 29.906975624424415, 'big_gamma': 5.4, 'small_gamma': 3.5, 'dist_from_kesall': 0.013347753762507344, 'dist_between_spec': 0.014163629444665798}\n"
     ]
    },
    {
     "name": "stderr",
     "output_type": "stream",
     "text": [
      " 38%|███▊      | 38/100 [51:21<1:15:37, 73.19s/it]"
     ]
    },
    {
     "name": "stdout",
     "output_type": "stream",
     "text": [
      "{'s_min': 0.03162277660168379, 's_max': 44.721359549995796, 'big_gamma': 5.4, 'small_gamma': 3.5, 'dist_from_kesall': 0.013345740297138696, 'dist_between_spec': 0.013921721212117627}\n"
     ]
    },
    {
     "name": "stderr",
     "output_type": "stream",
     "text": [
      " 39%|███▉      | 39/100 [52:39<1:15:54, 74.66s/it]"
     ]
    },
    {
     "name": "stdout",
     "output_type": "stream",
     "text": [
      "{'s_min': 0.03162277660168379, 's_max': 66.87403049764221, 'big_gamma': 5.4, 'small_gamma': 3.5, 'dist_from_kesall': 0.013341754782487314, 'dist_between_spec': 0.01378864419839313}\n"
     ]
    },
    {
     "name": "stderr",
     "output_type": "stream",
     "text": [
      " 40%|████      | 40/100 [53:56<1:15:25, 75.42s/it]"
     ]
    },
    {
     "name": "stdout",
     "output_type": "stream",
     "text": [
      "{'s_min': 0.03162277660168379, 's_max': 100.0, 'big_gamma': 5.4, 'small_gamma': 3.5, 'dist_from_kesall': 0.013338693661910315, 'dist_between_spec': 0.013761485230257551}\n"
     ]
    },
    {
     "name": "stderr",
     "output_type": "stream",
     "text": [
      " 41%|████      | 41/100 [55:18<1:16:09, 77.44s/it]"
     ]
    },
    {
     "name": "stdout",
     "output_type": "stream",
     "text": [
      "{'s_min': 0.1778279410038923, 's_max': 20.000000000000004, 'big_gamma': 5.4, 'small_gamma': 3.5, 'dist_from_kesall': 0.055758600937572386, 'dist_between_spec': 0.32916908884297574}\n"
     ]
    },
    {
     "name": "stderr",
     "output_type": "stream",
     "text": [
      " 42%|████▏     | 42/100 [56:43<1:17:06, 79.77s/it]"
     ]
    },
    {
     "name": "stdout",
     "output_type": "stream",
     "text": [
      "{'s_min': 0.1778279410038923, 's_max': 29.906975624424415, 'big_gamma': 5.4, 'small_gamma': 3.5, 'dist_from_kesall': 0.05573506600003216, 'dist_between_spec': 0.31143375246165816}\n"
     ]
    },
    {
     "name": "stderr",
     "output_type": "stream",
     "text": [
      " 43%|████▎     | 43/100 [58:10<1:17:48, 81.90s/it]"
     ]
    },
    {
     "name": "stdout",
     "output_type": "stream",
     "text": [
      "{'s_min': 0.1778279410038923, 's_max': 44.721359549995796, 'big_gamma': 5.4, 'small_gamma': 3.5, 'dist_from_kesall': 0.055692940724634196, 'dist_between_spec': 0.3093053880731591}\n"
     ]
    },
    {
     "name": "stderr",
     "output_type": "stream",
     "text": [
      " 44%|████▍     | 44/100 [59:37<1:17:43, 83.27s/it]"
     ]
    },
    {
     "name": "stdout",
     "output_type": "stream",
     "text": [
      "{'s_min': 0.1778279410038923, 's_max': 66.87403049764221, 'big_gamma': 5.4, 'small_gamma': 3.5, 'dist_from_kesall': 0.05563764425922546, 'dist_between_spec': 0.308164357192262}\n"
     ]
    },
    {
     "name": "stderr",
     "output_type": "stream",
     "text": [
      " 45%|████▌     | 45/100 [1:01:03<1:17:12, 84.23s/it]"
     ]
    },
    {
     "name": "stdout",
     "output_type": "stream",
     "text": [
      "{'s_min': 0.1778279410038923, 's_max': 100.0, 'big_gamma': 5.4, 'small_gamma': 3.5, 'dist_from_kesall': 0.05559032055809065, 'dist_between_spec': 0.30771017952492974}\n"
     ]
    },
    {
     "name": "stderr",
     "output_type": "stream",
     "text": [
      " 46%|████▌     | 46/100 [1:02:38<1:18:42, 87.45s/it]"
     ]
    },
    {
     "name": "stdout",
     "output_type": "stream",
     "text": [
      "{'s_min': 1.0, 's_max': 20.000000000000004, 'big_gamma': 5.4, 'small_gamma': 3.5, 'dist_from_kesall': 0.6108047486407477, 'dist_between_spec': 1.4234838636378757}\n"
     ]
    },
    {
     "name": "stderr",
     "output_type": "stream",
     "text": [
      " 47%|████▋     | 47/100 [1:04:16<1:20:01, 90.60s/it]"
     ]
    },
    {
     "name": "stdout",
     "output_type": "stream",
     "text": [
      "{'s_min': 1.0, 's_max': 29.906975624424415, 'big_gamma': 5.4, 'small_gamma': 3.5, 'dist_from_kesall': 0.61124289247439, 'dist_between_spec': 1.3793715733781544}\n"
     ]
    },
    {
     "name": "stderr",
     "output_type": "stream",
     "text": [
      " 48%|████▊     | 48/100 [1:05:59<1:21:43, 94.30s/it]"
     ]
    },
    {
     "name": "stdout",
     "output_type": "stream",
     "text": [
      "{'s_min': 1.0, 's_max': 44.721359549995796, 'big_gamma': 5.4, 'small_gamma': 3.5, 'dist_from_kesall': 0.6111094001781286, 'dist_between_spec': 1.3706716034349529}\n"
     ]
    },
    {
     "name": "stderr",
     "output_type": "stream",
     "text": [
      " 49%|████▉     | 49/100 [1:07:36<1:20:54, 95.18s/it]"
     ]
    },
    {
     "name": "stdout",
     "output_type": "stream",
     "text": [
      "{'s_min': 1.0, 's_max': 66.87403049764221, 'big_gamma': 5.4, 'small_gamma': 3.5, 'dist_from_kesall': 0.6108222753517387, 'dist_between_spec': 1.3667371040855871}\n"
     ]
    },
    {
     "name": "stderr",
     "output_type": "stream",
     "text": [
      " 50%|█████     | 50/100 [1:09:11<1:19:16, 95.13s/it]"
     ]
    },
    {
     "name": "stdout",
     "output_type": "stream",
     "text": [
      "{'s_min': 1.0, 's_max': 100.0, 'big_gamma': 5.4, 'small_gamma': 3.5, 'dist_from_kesall': 0.6104594869427657, 'dist_between_spec': 1.365235293793645}\n"
     ]
    },
    {
     "name": "stderr",
     "output_type": "stream",
     "text": [
      " 51%|█████     | 51/100 [1:10:19<1:10:59, 86.93s/it]"
     ]
    },
    {
     "name": "stdout",
     "output_type": "stream",
     "text": [
      "{'s_min': 0.001, 's_max': 20.000000000000004, 'big_gamma': 5.2, 'small_gamma': 4.0, 'dist_from_kesall': 0.0012129760718376115, 'dist_between_spec': 0.0006735437847485762}\n"
     ]
    },
    {
     "name": "stderr",
     "output_type": "stream",
     "text": [
      " 52%|█████▏    | 52/100 [1:11:27<1:05:06, 81.38s/it]"
     ]
    },
    {
     "name": "stdout",
     "output_type": "stream",
     "text": [
      "{'s_min': 0.001, 's_max': 29.906975624424415, 'big_gamma': 5.2, 'small_gamma': 4.0, 'dist_from_kesall': 0.0012130940944657467, 'dist_between_spec': 0.0006540282083235092}\n"
     ]
    },
    {
     "name": "stderr",
     "output_type": "stream",
     "text": [
      " 53%|█████▎    | 53/100 [1:12:37<1:00:55, 77.77s/it]"
     ]
    },
    {
     "name": "stdout",
     "output_type": "stream",
     "text": [
      "{'s_min': 0.001, 's_max': 44.721359549995796, 'big_gamma': 5.2, 'small_gamma': 4.0, 'dist_from_kesall': 0.0012133885442927091, 'dist_between_spec': 0.0006556733371517085}\n"
     ]
    },
    {
     "name": "stderr",
     "output_type": "stream",
     "text": [
      " 54%|█████▍    | 54/100 [1:13:48<58:01, 75.69s/it]  "
     ]
    },
    {
     "name": "stdout",
     "output_type": "stream",
     "text": [
      "{'s_min': 0.001, 's_max': 66.87403049764221, 'big_gamma': 5.2, 'small_gamma': 4.0, 'dist_from_kesall': 0.0012135064487464908, 'dist_between_spec': 0.0006533001457302494}\n"
     ]
    },
    {
     "name": "stderr",
     "output_type": "stream",
     "text": [
      " 55%|█████▌    | 55/100 [1:15:02<56:32, 75.38s/it]"
     ]
    },
    {
     "name": "stdout",
     "output_type": "stream",
     "text": [
      "{'s_min': 0.001, 's_max': 100.0, 'big_gamma': 5.2, 'small_gamma': 4.0, 'dist_from_kesall': 0.0012137564952079199, 'dist_between_spec': 0.0006530834300673013}\n"
     ]
    },
    {
     "name": "stderr",
     "output_type": "stream",
     "text": [
      " 56%|█████▌    | 56/100 [1:16:19<55:32, 75.73s/it]"
     ]
    },
    {
     "name": "stdout",
     "output_type": "stream",
     "text": [
      "{'s_min': 0.005623413251903491, 's_max': 20.000000000000004, 'big_gamma': 5.2, 'small_gamma': 4.0, 'dist_from_kesall': 0.0007420322643353763, 'dist_between_spec': 0.002263628357906398}\n"
     ]
    },
    {
     "name": "stderr",
     "output_type": "stream",
     "text": [
      " 57%|█████▋    | 57/100 [1:17:44<56:14, 78.49s/it]"
     ]
    },
    {
     "name": "stdout",
     "output_type": "stream",
     "text": [
      "{'s_min': 0.005623413251903491, 's_max': 29.906975624424415, 'big_gamma': 5.2, 'small_gamma': 4.0, 'dist_from_kesall': 0.0007420992679161045, 'dist_between_spec': 0.002206293137871296}\n"
     ]
    },
    {
     "name": "stderr",
     "output_type": "stream",
     "text": [
      " 58%|█████▊    | 58/100 [1:19:07<55:52, 79.82s/it]"
     ]
    },
    {
     "name": "stdout",
     "output_type": "stream",
     "text": [
      "{'s_min': 0.005623413251903491, 's_max': 44.721359549995796, 'big_gamma': 5.2, 'small_gamma': 4.0, 'dist_from_kesall': 0.0007422610092117575, 'dist_between_spec': 0.002207620926894817}\n"
     ]
    },
    {
     "name": "stderr",
     "output_type": "stream",
     "text": [
      " 59%|█████▉    | 59/100 [1:20:32<55:40, 81.48s/it]"
     ]
    },
    {
     "name": "stdout",
     "output_type": "stream",
     "text": [
      "{'s_min': 0.005623413251903491, 's_max': 66.87403049764221, 'big_gamma': 5.2, 'small_gamma': 4.0, 'dist_from_kesall': 0.0007424138225768558, 'dist_between_spec': 0.0022015139460933365}\n"
     ]
    },
    {
     "name": "stderr",
     "output_type": "stream",
     "text": [
      " 60%|██████    | 60/100 [1:22:00<55:42, 83.55s/it]"
     ]
    },
    {
     "name": "stdout",
     "output_type": "stream",
     "text": [
      "{'s_min': 0.005623413251903491, 's_max': 100.0, 'big_gamma': 5.2, 'small_gamma': 4.0, 'dist_from_kesall': 0.0007425157820874747, 'dist_between_spec': 0.0022000151535930346}\n"
     ]
    },
    {
     "name": "stderr",
     "output_type": "stream",
     "text": [
      " 61%|██████    | 61/100 [1:23:33<56:08, 86.36s/it]"
     ]
    },
    {
     "name": "stdout",
     "output_type": "stream",
     "text": [
      "{'s_min': 0.03162277660168379, 's_max': 20.000000000000004, 'big_gamma': 5.2, 'small_gamma': 4.0, 'dist_from_kesall': 0.0015007795885419659, 'dist_between_spec': 0.016527670183606832}\n"
     ]
    },
    {
     "name": "stderr",
     "output_type": "stream",
     "text": [
      " 62%|██████▏   | 62/100 [1:25:12<57:01, 90.03s/it]"
     ]
    },
    {
     "name": "stdout",
     "output_type": "stream",
     "text": [
      "{'s_min': 0.03162277660168379, 's_max': 29.906975624424415, 'big_gamma': 5.2, 'small_gamma': 4.0, 'dist_from_kesall': 0.0014994893903978622, 'dist_between_spec': 0.016254210290569976}\n"
     ]
    },
    {
     "name": "stderr",
     "output_type": "stream",
     "text": [
      " 63%|██████▎   | 63/100 [1:26:39<54:57, 89.13s/it]"
     ]
    },
    {
     "name": "stdout",
     "output_type": "stream",
     "text": [
      "{'s_min': 0.03162277660168379, 's_max': 44.721359549995796, 'big_gamma': 5.2, 'small_gamma': 4.0, 'dist_from_kesall': 0.001498240195923722, 'dist_between_spec': 0.016241028202675867}\n"
     ]
    },
    {
     "name": "stderr",
     "output_type": "stream",
     "text": [
      " 64%|██████▍   | 64/100 [1:28:01<52:07, 86.88s/it]"
     ]
    },
    {
     "name": "stdout",
     "output_type": "stream",
     "text": [
      "{'s_min': 0.03162277660168379, 's_max': 66.87403049764221, 'big_gamma': 5.2, 'small_gamma': 4.0, 'dist_from_kesall': 0.0014968520040037228, 'dist_between_spec': 0.016198019615889757}\n"
     ]
    },
    {
     "name": "stderr",
     "output_type": "stream",
     "text": [
      " 65%|██████▌   | 65/100 [1:29:36<52:16, 89.60s/it]"
     ]
    },
    {
     "name": "stdout",
     "output_type": "stream",
     "text": [
      "{'s_min': 0.03162277660168379, 's_max': 100.0, 'big_gamma': 5.2, 'small_gamma': 4.0, 'dist_from_kesall': 0.001495714910955888, 'dist_between_spec': 0.016181255362833172}\n"
     ]
    },
    {
     "name": "stderr",
     "output_type": "stream",
     "text": [
      " 66%|██████▌   | 66/100 [1:31:16<52:24, 92.50s/it]"
     ]
    },
    {
     "name": "stdout",
     "output_type": "stream",
     "text": [
      "{'s_min': 0.1778279410038923, 's_max': 20.000000000000004, 'big_gamma': 5.2, 'small_gamma': 4.0, 'dist_from_kesall': 0.02788570551988895, 'dist_between_spec': 0.3559692010954325}\n"
     ]
    },
    {
     "name": "stderr",
     "output_type": "stream",
     "text": [
      " 67%|██████▋   | 67/100 [1:32:43<50:05, 91.07s/it]"
     ]
    },
    {
     "name": "stdout",
     "output_type": "stream",
     "text": [
      "{'s_min': 0.1778279410038923, 's_max': 29.906975624424415, 'big_gamma': 5.2, 'small_gamma': 4.0, 'dist_from_kesall': 0.027848667575425732, 'dist_between_spec': 0.3519845943101003}\n"
     ]
    },
    {
     "name": "stderr",
     "output_type": "stream",
     "text": [
      " 68%|██████▊   | 68/100 [1:34:33<51:28, 96.52s/it]"
     ]
    },
    {
     "name": "stdout",
     "output_type": "stream",
     "text": [
      "{'s_min': 0.1778279410038923, 's_max': 44.721359549995796, 'big_gamma': 5.2, 'small_gamma': 4.0, 'dist_from_kesall': 0.02781140842126885, 'dist_between_spec': 0.35154442857690515}\n"
     ]
    },
    {
     "name": "stderr",
     "output_type": "stream",
     "text": [
      " 69%|██████▉   | 69/100 [1:36:18<51:10, 99.06s/it]"
     ]
    },
    {
     "name": "stdout",
     "output_type": "stream",
     "text": [
      "{'s_min': 0.1778279410038923, 's_max': 66.87403049764221, 'big_gamma': 5.2, 'small_gamma': 4.0, 'dist_from_kesall': 0.02776785366446286, 'dist_between_spec': 0.35097379996226097}\n"
     ]
    },
    {
     "name": "stderr",
     "output_type": "stream",
     "text": [
      " 70%|███████   | 70/100 [1:37:39<46:49, 93.65s/it]"
     ]
    },
    {
     "name": "stdout",
     "output_type": "stream",
     "text": [
      "{'s_min': 0.1778279410038923, 's_max': 100.0, 'big_gamma': 5.2, 'small_gamma': 4.0, 'dist_from_kesall': 0.027731457130311, 'dist_between_spec': 0.35060621769342276}\n"
     ]
    },
    {
     "name": "stderr",
     "output_type": "stream",
     "text": [
      " 71%|███████   | 71/100 [1:39:08<44:40, 92.42s/it]"
     ]
    },
    {
     "name": "stdout",
     "output_type": "stream",
     "text": [
      "{'s_min': 1.0, 's_max': 20.000000000000004, 'big_gamma': 5.2, 'small_gamma': 4.0, 'dist_from_kesall': 0.5412318605515928, 'dist_between_spec': 1.3875368827682035}\n"
     ]
    },
    {
     "name": "stderr",
     "output_type": "stream",
     "text": [
      " 72%|███████▏  | 72/100 [1:40:42<43:19, 92.83s/it]"
     ]
    },
    {
     "name": "stdout",
     "output_type": "stream",
     "text": [
      "{'s_min': 1.0, 's_max': 29.906975624424415, 'big_gamma': 5.2, 'small_gamma': 4.0, 'dist_from_kesall': 0.5411086020431457, 'dist_between_spec': 1.36936358096448}\n"
     ]
    },
    {
     "name": "stderr",
     "output_type": "stream",
     "text": [
      " 73%|███████▎  | 73/100 [1:42:26<43:16, 96.17s/it]"
     ]
    },
    {
     "name": "stdout",
     "output_type": "stream",
     "text": [
      "{'s_min': 1.0, 's_max': 44.721359549995796, 'big_gamma': 5.2, 'small_gamma': 4.0, 'dist_from_kesall': 0.5408563280895837, 'dist_between_spec': 1.3662842630807464}\n"
     ]
    },
    {
     "name": "stderr",
     "output_type": "stream",
     "text": [
      " 74%|███████▍  | 74/100 [1:44:09<42:33, 98.22s/it]"
     ]
    },
    {
     "name": "stdout",
     "output_type": "stream",
     "text": [
      "{'s_min': 1.0, 's_max': 66.87403049764221, 'big_gamma': 5.2, 'small_gamma': 4.0, 'dist_from_kesall': 0.5405704275234895, 'dist_between_spec': 1.3641902386343474}\n"
     ]
    },
    {
     "name": "stderr",
     "output_type": "stream",
     "text": [
      " 75%|███████▌  | 75/100 [1:45:53<41:35, 99.81s/it]"
     ]
    },
    {
     "name": "stdout",
     "output_type": "stream",
     "text": [
      "{'s_min': 1.0, 's_max': 100.0, 'big_gamma': 5.2, 'small_gamma': 4.0, 'dist_from_kesall': 0.540255852784064, 'dist_between_spec': 1.3632859788844027}\n"
     ]
    },
    {
     "name": "stderr",
     "output_type": "stream",
     "text": [
      " 76%|███████▌  | 76/100 [1:46:52<35:03, 87.63s/it]"
     ]
    },
    {
     "name": "stdout",
     "output_type": "stream",
     "text": [
      "{'s_min': 0.001, 's_max': 20.000000000000004, 'big_gamma': 5.4, 'small_gamma': 4.0, 'dist_from_kesall': 0.0012129760718376115, 'dist_between_spec': 0.0006735437847485762}\n"
     ]
    },
    {
     "name": "stderr",
     "output_type": "stream",
     "text": [
      " 77%|███████▋  | 77/100 [1:47:55<30:49, 80.40s/it]"
     ]
    },
    {
     "name": "stdout",
     "output_type": "stream",
     "text": [
      "{'s_min': 0.001, 's_max': 29.906975624424415, 'big_gamma': 5.4, 'small_gamma': 4.0, 'dist_from_kesall': 0.0012130946907575938, 'dist_between_spec': 0.0006542893177655606}\n"
     ]
    },
    {
     "name": "stderr",
     "output_type": "stream",
     "text": [
      " 78%|███████▊  | 78/100 [1:49:06<28:21, 77.36s/it]"
     ]
    },
    {
     "name": "stdout",
     "output_type": "stream",
     "text": [
      "{'s_min': 0.001, 's_max': 44.721359549995796, 'big_gamma': 5.4, 'small_gamma': 4.0, 'dist_from_kesall': 0.0012133896257705674, 'dist_between_spec': 0.0006558037244596513}\n"
     ]
    },
    {
     "name": "stderr",
     "output_type": "stream",
     "text": [
      " 79%|███████▉  | 79/100 [1:50:12<25:53, 73.99s/it]"
     ]
    },
    {
     "name": "stdout",
     "output_type": "stream",
     "text": [
      "{'s_min': 0.001, 's_max': 66.87403049764221, 'big_gamma': 5.4, 'small_gamma': 4.0, 'dist_from_kesall': 0.0012135076888058793, 'dist_between_spec': 0.0006537623900535082}\n"
     ]
    },
    {
     "name": "stderr",
     "output_type": "stream",
     "text": [
      " 80%|████████  | 80/100 [1:51:20<24:08, 72.41s/it]"
     ]
    },
    {
     "name": "stdout",
     "output_type": "stream",
     "text": [
      "{'s_min': 0.001, 's_max': 100.0, 'big_gamma': 5.4, 'small_gamma': 4.0, 'dist_from_kesall': 0.0012137577343027746, 'dist_between_spec': 0.0006535579706228725}\n"
     ]
    },
    {
     "name": "stderr",
     "output_type": "stream",
     "text": [
      " 81%|████████  | 81/100 [1:52:30<22:39, 71.56s/it]"
     ]
    },
    {
     "name": "stdout",
     "output_type": "stream",
     "text": [
      "{'s_min': 0.005623413251903491, 's_max': 20.000000000000004, 'big_gamma': 5.4, 'small_gamma': 4.0, 'dist_from_kesall': 0.0007420322643353763, 'dist_between_spec': 0.002263628357906398}\n"
     ]
    },
    {
     "name": "stderr",
     "output_type": "stream",
     "text": [
      " 82%|████████▏ | 82/100 [1:53:39<21:12, 70.68s/it]"
     ]
    },
    {
     "name": "stdout",
     "output_type": "stream",
     "text": [
      "{'s_min': 0.005623413251903491, 's_max': 29.906975624424415, 'big_gamma': 5.4, 'small_gamma': 4.0, 'dist_from_kesall': 0.0007420996789225829, 'dist_between_spec': 0.002207234756245435}\n"
     ]
    },
    {
     "name": "stderr",
     "output_type": "stream",
     "text": [
      " 83%|████████▎ | 83/100 [1:54:48<19:55, 70.33s/it]"
     ]
    },
    {
     "name": "stdout",
     "output_type": "stream",
     "text": [
      "{'s_min': 0.005623413251903491, 's_max': 44.721359549995796, 'big_gamma': 5.4, 'small_gamma': 4.0, 'dist_from_kesall': 0.0007422617566300133, 'dist_between_spec': 0.0022083841409828316}\n"
     ]
    },
    {
     "name": "stderr",
     "output_type": "stream",
     "text": [
      " 84%|████████▍ | 84/100 [1:56:02<19:01, 71.35s/it]"
     ]
    },
    {
     "name": "stdout",
     "output_type": "stream",
     "text": [
      "{'s_min': 0.005623413251903491, 's_max': 66.87403049764221, 'big_gamma': 5.4, 'small_gamma': 4.0, 'dist_from_kesall': 0.0007424146330867293, 'dist_between_spec': 0.002203137308501761}\n"
     ]
    },
    {
     "name": "stderr",
     "output_type": "stream",
     "text": [
      " 85%|████████▌ | 85/100 [1:57:18<18:12, 72.84s/it]"
     ]
    },
    {
     "name": "stdout",
     "output_type": "stream",
     "text": [
      "{'s_min': 0.005623413251903491, 's_max': 100.0, 'big_gamma': 5.4, 'small_gamma': 4.0, 'dist_from_kesall': 0.0007425166343383813, 'dist_between_spec': 0.00220168549852694}\n"
     ]
    },
    {
     "name": "stderr",
     "output_type": "stream",
     "text": [
      " 86%|████████▌ | 86/100 [1:58:30<16:54, 72.49s/it]"
     ]
    },
    {
     "name": "stdout",
     "output_type": "stream",
     "text": [
      "{'s_min': 0.03162277660168379, 's_max': 20.000000000000004, 'big_gamma': 5.4, 'small_gamma': 4.0, 'dist_from_kesall': 0.0015007795885419659, 'dist_between_spec': 0.016527670183606832}\n"
     ]
    },
    {
     "name": "stderr",
     "output_type": "stream",
     "text": [
      " 87%|████████▋ | 87/100 [1:59:47<16:01, 73.96s/it]"
     ]
    },
    {
     "name": "stdout",
     "output_type": "stream",
     "text": [
      "{'s_min': 0.03162277660168379, 's_max': 29.906975624424415, 'big_gamma': 5.4, 'small_gamma': 4.0, 'dist_from_kesall': 0.0014994871065703247, 'dist_between_spec': 0.016259436225485768}\n"
     ]
    },
    {
     "name": "stderr",
     "output_type": "stream",
     "text": [
      " 88%|████████▊ | 88/100 [2:01:04<14:56, 74.74s/it]"
     ]
    },
    {
     "name": "stdout",
     "output_type": "stream",
     "text": [
      "{'s_min': 0.03162277660168379, 's_max': 44.721359549995796, 'big_gamma': 5.4, 'small_gamma': 4.0, 'dist_from_kesall': 0.0014982357172964198, 'dist_between_spec': 0.016246352129994358}\n"
     ]
    },
    {
     "name": "stderr",
     "output_type": "stream",
     "text": [
      " 89%|████████▉ | 89/100 [2:02:23<13:55, 75.95s/it]"
     ]
    },
    {
     "name": "stdout",
     "output_type": "stream",
     "text": [
      "{'s_min': 0.03162277660168379, 's_max': 66.87403049764221, 'big_gamma': 5.4, 'small_gamma': 4.0, 'dist_from_kesall': 0.0014968467079632243, 'dist_between_spec': 0.016206775566181594}\n"
     ]
    },
    {
     "name": "stderr",
     "output_type": "stream",
     "text": [
      " 90%|█████████ | 90/100 [2:03:43<12:52, 77.20s/it]"
     ]
    },
    {
     "name": "stdout",
     "output_type": "stream",
     "text": [
      "{'s_min': 0.03162277660168379, 's_max': 100.0, 'big_gamma': 5.4, 'small_gamma': 4.0, 'dist_from_kesall': 0.0014957094814626527, 'dist_between_spec': 0.01619030555299883}\n"
     ]
    },
    {
     "name": "stderr",
     "output_type": "stream",
     "text": [
      " 91%|█████████ | 91/100 [2:05:06<11:52, 79.13s/it]"
     ]
    },
    {
     "name": "stdout",
     "output_type": "stream",
     "text": [
      "{'s_min': 0.1778279410038923, 's_max': 20.000000000000004, 'big_gamma': 5.4, 'small_gamma': 4.0, 'dist_from_kesall': 0.02788570551988895, 'dist_between_spec': 0.3559692010954325}\n"
     ]
    },
    {
     "name": "stderr",
     "output_type": "stream",
     "text": [
      " 92%|█████████▏| 92/100 [2:06:32<10:47, 81.00s/it]"
     ]
    },
    {
     "name": "stdout",
     "output_type": "stream",
     "text": [
      "{'s_min': 0.1778279410038923, 's_max': 29.906975624424415, 'big_gamma': 5.4, 'small_gamma': 4.0, 'dist_from_kesall': 0.027848614680816702, 'dist_between_spec': 0.35207172399113906}\n"
     ]
    },
    {
     "name": "stderr",
     "output_type": "stream",
     "text": [
      " 93%|█████████▎| 93/100 [2:07:58<09:38, 82.63s/it]"
     ]
    },
    {
     "name": "stdout",
     "output_type": "stream",
     "text": [
      "{'s_min': 0.1778279410038923, 's_max': 44.721359549995796, 'big_gamma': 5.4, 'small_gamma': 4.0, 'dist_from_kesall': 0.027811306298484252, 'dist_between_spec': 0.35164871826667937}\n"
     ]
    },
    {
     "name": "stderr",
     "output_type": "stream",
     "text": [
      " 94%|█████████▍| 94/100 [2:09:27<08:26, 84.35s/it]"
     ]
    },
    {
     "name": "stdout",
     "output_type": "stream",
     "text": [
      "{'s_min': 0.1778279410038923, 's_max': 66.87403049764221, 'big_gamma': 5.4, 'small_gamma': 4.0, 'dist_from_kesall': 0.02776773435949549, 'dist_between_spec': 0.35111884624575007}\n"
     ]
    },
    {
     "name": "stderr",
     "output_type": "stream",
     "text": [
      " 95%|█████████▌| 95/100 [2:10:53<07:04, 84.94s/it]"
     ]
    },
    {
     "name": "stdout",
     "output_type": "stream",
     "text": [
      "{'s_min': 0.1778279410038923, 's_max': 100.0, 'big_gamma': 5.4, 'small_gamma': 4.0, 'dist_from_kesall': 0.027731333364719127, 'dist_between_spec': 0.3507564102589498}\n"
     ]
    },
    {
     "name": "stderr",
     "output_type": "stream",
     "text": [
      " 96%|█████████▌| 96/100 [2:12:30<05:54, 88.72s/it]"
     ]
    },
    {
     "name": "stdout",
     "output_type": "stream",
     "text": [
      "{'s_min': 1.0, 's_max': 20.000000000000004, 'big_gamma': 5.4, 'small_gamma': 4.0, 'dist_from_kesall': 0.5412318605515928, 'dist_between_spec': 1.3875368827682035}\n"
     ]
    },
    {
     "name": "stderr",
     "output_type": "stream",
     "text": [
      " 97%|█████████▋| 97/100 [2:14:08<04:34, 91.38s/it]"
     ]
    },
    {
     "name": "stdout",
     "output_type": "stream",
     "text": [
      "{'s_min': 1.0, 's_max': 29.906975624424415, 'big_gamma': 5.4, 'small_gamma': 4.0, 'dist_from_kesall': 0.5411029762729884, 'dist_between_spec': 1.3699105992952345}\n"
     ]
    },
    {
     "name": "stderr",
     "output_type": "stream",
     "text": [
      " 98%|█████████▊| 98/100 [2:15:45<03:06, 93.09s/it]"
     ]
    },
    {
     "name": "stdout",
     "output_type": "stream",
     "text": [
      "{'s_min': 1.0, 's_max': 44.721359549995796, 'big_gamma': 5.4, 'small_gamma': 4.0, 'dist_from_kesall': 0.5408453514199593, 'dist_between_spec': 1.3671252582171185}\n"
     ]
    },
    {
     "name": "stderr",
     "output_type": "stream",
     "text": [
      " 99%|█████████▉| 99/100 [2:17:22<01:34, 94.37s/it]"
     ]
    },
    {
     "name": "stdout",
     "output_type": "stream",
     "text": [
      "{'s_min': 1.0, 's_max': 66.87403049764221, 'big_gamma': 5.4, 'small_gamma': 4.0, 'dist_from_kesall': 0.5405574697012742, 'dist_between_spec': 1.365287728211676}\n"
     ]
    },
    {
     "name": "stderr",
     "output_type": "stream",
     "text": [
      "100%|██████████| 100/100 [2:19:03<00:00, 83.44s/it]"
     ]
    },
    {
     "name": "stdout",
     "output_type": "stream",
     "text": [
      "{'s_min': 1.0, 's_max': 100.0, 'big_gamma': 5.4, 'small_gamma': 4.0, 'dist_from_kesall': 0.5402424165119631, 'dist_between_spec': 1.364485395288887}\n"
     ]
    },
    {
     "name": "stderr",
     "output_type": "stream",
     "text": [
      "\n"
     ]
    }
   ],
   "source": [
    "results = []\n",
    "for ind, row in tqdm(parameter_mapping.iterrows(), total=len(parameter_mapping)):\n",
    "    # create a Mie scattering model\n",
    "    psm = ParticleSizeModel(s_min=row['s_min'], s_max=row['s_max'], big_gamma=row['big_gamma'],\n",
    "                            small_gamma=row['small_gamma'])  # create a particle size model\n",
    "    mie = MieScatteringModel.train(spectrum, particle_size=psm)  # train a Mie scattering model\n",
    "\n",
    "    # plot the model\n",
    "    mueller_125um = mie.get_mueller_matrix(1250, theta)  # get the scattering\n",
    "    mie_phase_func_125um = mueller_125um[..., 0, 0, 0]\n",
    "    dist_from_kesall = distance_from_kelsall(theta, mie_phase_func_125um)\n",
    "\n",
    "    mueller_spec = mie.get_mueller_matrix(np.array((spectrum.min(), spectrum.max())), theta)  # get the scattering\n",
    "    mie_phase_func_spec = mueller_spec[..., 0, 0]\n",
    "    dist_between_spec = bhat_distance(theta, mie_phase_func_spec[..., 0], mie_phase_func_spec[..., -1])\n",
    "\n",
    "    row_dict = row.to_dict()\n",
    "    row_dict['dist_from_kesall'] = dist_from_kesall\n",
    "    row_dict['dist_between_spec'] = dist_between_spec\n",
    "\n",
    "    print(row_dict)\n",
    "    results.append(row_dict)"
   ],
   "metadata": {
    "collapsed": false
   }
  },
  {
   "cell_type": "code",
   "execution_count": 72,
   "outputs": [
    {
     "data": {
      "text/plain": "    s_min       s_max  big_gamma  small_gamma  dist_from_kesall  \\\n0   0.001   20.000000        5.2          3.5          0.006305   \n1   0.001   29.906976        5.2          3.5          0.006309   \n2   0.001   44.721360        5.2          3.5          0.006309   \n3   0.001   66.874030        5.2          3.5          0.006310   \n4   0.001  100.000000        5.2          3.5          0.006310   \n..    ...         ...        ...          ...               ...   \n95  1.000   20.000000        5.4          4.0          0.541232   \n96  1.000   29.906976        5.4          4.0          0.541103   \n97  1.000   44.721360        5.4          4.0          0.540845   \n98  1.000   66.874030        5.4          4.0          0.540557   \n99  1.000  100.000000        5.4          4.0          0.540242   \n\n    dist_between_spec  \n0            0.001415  \n1            0.000764  \n2            0.000699  \n3            0.000667  \n4            0.000661  \n..                ...  \n95           1.387537  \n96           1.369911  \n97           1.367125  \n98           1.365288  \n99           1.364485  \n\n[100 rows x 6 columns]",
      "text/html": "<div>\n<style scoped>\n    .dataframe tbody tr th:only-of-type {\n        vertical-align: middle;\n    }\n\n    .dataframe tbody tr th {\n        vertical-align: top;\n    }\n\n    .dataframe thead th {\n        text-align: right;\n    }\n</style>\n<table border=\"1\" class=\"dataframe\">\n  <thead>\n    <tr style=\"text-align: right;\">\n      <th></th>\n      <th>s_min</th>\n      <th>s_max</th>\n      <th>big_gamma</th>\n      <th>small_gamma</th>\n      <th>dist_from_kesall</th>\n      <th>dist_between_spec</th>\n    </tr>\n  </thead>\n  <tbody>\n    <tr>\n      <th>0</th>\n      <td>0.001</td>\n      <td>20.000000</td>\n      <td>5.2</td>\n      <td>3.5</td>\n      <td>0.006305</td>\n      <td>0.001415</td>\n    </tr>\n    <tr>\n      <th>1</th>\n      <td>0.001</td>\n      <td>29.906976</td>\n      <td>5.2</td>\n      <td>3.5</td>\n      <td>0.006309</td>\n      <td>0.000764</td>\n    </tr>\n    <tr>\n      <th>2</th>\n      <td>0.001</td>\n      <td>44.721360</td>\n      <td>5.2</td>\n      <td>3.5</td>\n      <td>0.006309</td>\n      <td>0.000699</td>\n    </tr>\n    <tr>\n      <th>3</th>\n      <td>0.001</td>\n      <td>66.874030</td>\n      <td>5.2</td>\n      <td>3.5</td>\n      <td>0.006310</td>\n      <td>0.000667</td>\n    </tr>\n    <tr>\n      <th>4</th>\n      <td>0.001</td>\n      <td>100.000000</td>\n      <td>5.2</td>\n      <td>3.5</td>\n      <td>0.006310</td>\n      <td>0.000661</td>\n    </tr>\n    <tr>\n      <th>...</th>\n      <td>...</td>\n      <td>...</td>\n      <td>...</td>\n      <td>...</td>\n      <td>...</td>\n      <td>...</td>\n    </tr>\n    <tr>\n      <th>95</th>\n      <td>1.000</td>\n      <td>20.000000</td>\n      <td>5.4</td>\n      <td>4.0</td>\n      <td>0.541232</td>\n      <td>1.387537</td>\n    </tr>\n    <tr>\n      <th>96</th>\n      <td>1.000</td>\n      <td>29.906976</td>\n      <td>5.4</td>\n      <td>4.0</td>\n      <td>0.541103</td>\n      <td>1.369911</td>\n    </tr>\n    <tr>\n      <th>97</th>\n      <td>1.000</td>\n      <td>44.721360</td>\n      <td>5.4</td>\n      <td>4.0</td>\n      <td>0.540845</td>\n      <td>1.367125</td>\n    </tr>\n    <tr>\n      <th>98</th>\n      <td>1.000</td>\n      <td>66.874030</td>\n      <td>5.4</td>\n      <td>4.0</td>\n      <td>0.540557</td>\n      <td>1.365288</td>\n    </tr>\n    <tr>\n      <th>99</th>\n      <td>1.000</td>\n      <td>100.000000</td>\n      <td>5.4</td>\n      <td>4.0</td>\n      <td>0.540242</td>\n      <td>1.364485</td>\n    </tr>\n  </tbody>\n</table>\n<p>100 rows × 6 columns</p>\n</div>"
     },
     "execution_count": 72,
     "metadata": {},
     "output_type": "execute_result"
    }
   ],
   "source": [
    "results_df = pd.DataFrame(results)\n",
    "results_df"
   ],
   "metadata": {
    "collapsed": false
   }
  },
  {
   "cell_type": "code",
   "execution_count": 77,
   "outputs": [
    {
     "data": {
      "text/plain": "<Axes: xlabel='dist_from_kesall', ylabel='dist_between_spec'>"
     },
     "execution_count": 77,
     "metadata": {},
     "output_type": "execute_result"
    },
    {
     "data": {
      "text/plain": "<Figure size 640x480 with 1 Axes>",
      "image/png": "[encoded data removed]"
     },
     "metadata": {},
     "output_type": "display_data"
    }
   ],
   "source": [
    "results_df.plot.scatter(x='dist_from_kesall', y='dist_between_spec', grid=True, loglog=True)"
   ],
   "metadata": {
    "collapsed": false
   }
  },
  {
   "cell_type": "code",
   "execution_count": 91,
   "outputs": [
    {
     "data": {
      "text/plain": "s_min                 0.005623\ns_max                20.000000\nbig_gamma             5.200000\nsmall_gamma           4.000000\ndist_from_kesall      0.000742\ndist_between_spec     0.002264\nName: 55, dtype: float64"
     },
     "execution_count": 91,
     "metadata": {},
     "output_type": "execute_result"
    }
   ],
   "source": [
    "best_res = results_df.loc[results_df.dist_from_kesall.argmin()]\n",
    "best_res"
   ],
   "metadata": {
    "collapsed": false
   }
  },
  {
   "cell_type": "markdown",
   "source": [
    "## Plot the best results"
   ],
   "metadata": {
    "collapsed": false
   }
  },
  {
   "cell_type": "code",
   "execution_count": 5,
   "outputs": [],
   "source": [
    "best_res = {'s_min': 0.001, 's_max': 50.0, 'big_gamma': 3, 'small_gamma': 3.8}"
   ],
   "metadata": {
    "collapsed": false
   }
  },
  {
   "cell_type": "code",
   "execution_count": 8,
   "outputs": [
    {
     "data": {
      "text/plain": "array([  300.        ,   490.39446611,   801.62244131,  1310.3706971 ,\n        2141.99512805,  3501.40852412,  5723.57121277,  9356.02549714,\n       15293.81042868, 25000.        ])"
     },
     "execution_count": 8,
     "metadata": {},
     "output_type": "execute_result"
    }
   ],
   "source": [
    "spectrum"
   ],
   "metadata": {
    "collapsed": false
   }
  },
  {
   "cell_type": "code",
   "execution_count": 11,
   "outputs": [
    {
     "data": {
      "text/plain": "<Figure size 640x480 with 4 Axes>",
      "image/png": "[encoded data removed]"
     },
     "metadata": {},
     "output_type": "display_data"
    }
   ],
   "source": [
    "# recreate best results model and plot (full spectrum)\n",
    "psm = ParticleSizeModel(s_min=best_res['s_min'], s_max=best_res['s_max'], big_gamma=best_res['big_gamma'], small_gamma=best_res['small_gamma'])  # create a particle size model\n",
    "mie = MieScatteringModel.train(spectrum, particle_size=psm)\n",
    "mie_scatt = mie(spectrum, theta)\n",
    "\n",
    "# plot the Mueller matrix elements\n",
    "plot_mueller_matrix_elems(theta, mie_scatt[:, :, 0, 0], mie_scatt[:, :, 0, 1],\n",
    "                          mie_scatt[:, :, 2, 2], mie_scatt[:, :, 2, 3], title='Mueller Matrix Elements in wide Spectrum')"
   ],
   "metadata": {
    "collapsed": false
   }
  },
  {
   "cell_type": "code",
   "execution_count": 16,
   "outputs": [
    {
     "data": {
      "text/plain": "<Figure size 640x480 with 1 Axes>",
      "image/png": "[encoded data removed]"
     },
     "metadata": {},
     "output_type": "display_data"
    }
   ],
   "source": [
    "# Compare to Kelsall's model\n",
    "mie_scatt = mie(1250, theta)\n",
    "kelsall_125um = get_phase_function(theta, C1)\n",
    "\n",
    "plt.figure()\n",
    "plt.plot(theta, mie_scatt[:, :, 0, 0], lw=3, label='Our model')\n",
    "plt.plot(theta, kelsall_125um, 'k', lw=3, label='Kelsall (1.25um)')\n",
    "plt.title('Comparison of unpolarized phase functions\\n in our model vs. Kelsall ($1.25\\mu m$)', fontsize=16)\n",
    "plt.xlabel('Scattering angle (rad)', fontsize=14)\n",
    "plt.ylabel('Phase function', fontsize=14)\n",
    "plt.grid()\n",
    "plt.legend(prop={'size': 14})\n",
    "plt.gca().tick_params(axis='both', which='major', labelsize=14)\n",
    "plt.savefig('outputs/mie_kelsall_model_compare.pdf', format='pdf')\n",
    "plt.show()"
   ],
   "metadata": {
    "collapsed": false
   }
  },
  {
   "cell_type": "code",
   "execution_count": 9,
   "outputs": [
    {
     "data": {
      "text/plain": "<Figure size 640x480 with 4 Axes>",
      "image/png": "[encoded data removed]"
     },
     "metadata": {},
     "output_type": "display_data"
    }
   ],
   "source": [
    "# Display out model in the White Light spectrum\n",
    "spectrum_wl = np.logspace(np.log10(300), np.log10(700), 10)  # white light wavelength in nm\n",
    "psm = ParticleSizeModel(s_min=best_res['s_min'], s_max=best_res['s_max'], big_gamma=best_res['big_gamma'], small_gamma=best_res['small_gamma'])  # create a particle size model\n",
    "mie = MieScatteringModel.train(spectrum_wl, particle_size=psm)\n",
    "mie_scatt = mie(spectrum_wl, theta)\n",
    "\n",
    "# plot the Mueller matrix elements\n",
    "plot_mueller_matrix_elems(theta, mie_scatt[:, :, 0, 0], mie_scatt[:, :, 0, 1],\n",
    "                          mie_scatt[:, :, 2, 2], mie_scatt[:, :, 2, 3], title='Mueller Matrix Elements in the Visible Spectrum')"
   ],
   "metadata": {
    "collapsed": false
   }
  },
  {
   "cell_type": "code",
   "execution_count": 100,
   "outputs": [
    {
     "name": "stdout",
     "output_type": "stream",
     "text": [
      "saved_models/white_light_mie_model.npz\n"
     ]
    }
   ],
   "source": [
    "# save the new Mie model\n",
    "from zodipol.zodipol.zodipol import MIE_MODEL_DEFAULT_PATH\n",
    "mie.save(MIE_MODEL_DEFAULT_PATH)\n",
    "print(MIE_MODEL_DEFAULT_PATH)"
   ],
   "metadata": {
    "collapsed": false
   }
  }
 ],
 "metadata": {
  "kernelspec": {
   "display_name": "Python 3",
   "language": "python",
   "name": "python3"
  },
  "language_info": {
   "codemirror_mode": {
    "name": "ipython",
    "version": 2
   },
   "file_extension": ".py",
   "mimetype": "text/x-python",
   "name": "python",
   "nbconvert_exporter": "python",
   "pygments_lexer": "ipython2",
   "version": "2.7.6"
  }
 },
 "nbformat": 4,
 "nbformat_minor": 0
}
